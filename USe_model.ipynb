{
 "cells": [
  {
   "cell_type": "code",
   "execution_count": 1,
   "id": "570088f5",
   "metadata": {
    "ExecuteTime": {
     "end_time": "2023-09-05T08:49:53.235238Z",
     "start_time": "2023-09-05T08:49:49.721078Z"
    }
   },
   "outputs": [],
   "source": [
    "from tensorflow.keras.models import load_model\n",
    "import json\n",
    "import pandas as pd"
   ]
  },
  {
   "cell_type": "code",
   "execution_count": 2,
   "id": "e5573519",
   "metadata": {
    "ExecuteTime": {
     "end_time": "2023-09-05T08:49:53.533688Z",
     "start_time": "2023-09-05T08:49:53.236237Z"
    }
   },
   "outputs": [],
   "source": [
    "model = load_model('hahaton.h5')\n",
    "\n",
    "with open(\"disease_labels.json\", \"r\") as json_file:\n",
    "    disease_labels = json.load(json_file)\n",
    "    \n",
    "with open(\"symptom_index_dict.json\", \"r\") as json_file:\n",
    "    symptom_index_dict = json.load(json_file)"
   ]
  },
  {
   "cell_type": "code",
   "execution_count": 3,
   "id": "123a047a",
   "metadata": {
    "ExecuteTime": {
     "end_time": "2023-09-05T08:49:53.549125Z",
     "start_time": "2023-09-05T08:49:53.534299Z"
    }
   },
   "outputs": [],
   "source": [
    "def symptoms_to_encoded_array(symptoms, symptom_index_dict):\n",
    "    encoded_array = [0] * len(symptom_index_dict)\n",
    "    for symptom in symptoms:\n",
    "        if symptom in symptom_index_dict:\n",
    "            index = symptom_index_dict[symptom]\n",
    "            encoded_array[index] = 1\n",
    "    return encoded_array"
   ]
  },
  {
   "cell_type": "code",
   "execution_count": 4,
   "id": "531da4f7",
   "metadata": {
    "ExecuteTime": {
     "end_time": "2023-09-05T08:49:53.564257Z",
     "start_time": "2023-09-05T08:49:53.551093Z"
    }
   },
   "outputs": [],
   "source": [
    "def predict_diseases(symptoms, model, symptom_index_dict, disease_labels):\n",
    "    encoded_symptoms = symptoms_to_encoded_array(symptoms, symptom_index_dict)\n",
    "    probabilities = model.predict([encoded_symptoms])[0]\n",
    "    disease_prob = pd.Series(probabilities, index=disease_labels)\n",
    "    sorted_diseases = disease_prob.sort_values(ascending=False)\n",
    "    for idx, prob in sorted_diseases.iteritems():\n",
    "        print(f\"{idx}: {prob:.2f}\")"
   ]
  },
  {
   "cell_type": "code",
   "execution_count": 5,
   "id": "1cd45b18",
   "metadata": {
    "ExecuteTime": {
     "end_time": "2023-09-05T08:49:53.768689Z",
     "start_time": "2023-09-05T08:49:53.565256Z"
    }
   },
   "outputs": [
    {
     "name": "stdout",
     "output_type": "stream",
     "text": [
      "1/1 [==============================] - 0s 158ms/step\n",
      "Paralysis (brain hemorrhage): 0.88\n",
      "Tuberculosis: 0.05\n",
      "Peptic ulcer diseae: 0.03\n",
      "Impetigo: 0.03\n",
      "hepatitis A: 0.00\n",
      "Hepatitis E: 0.00\n",
      "Migraine: 0.00\n",
      "Dimorphic hemmorhoids(piles): 0.00\n",
      "Arthritis: 0.00\n",
      "Common Cold: 0.00\n",
      "Gastroenteritis: 0.00\n",
      "Typhoid: 0.00\n",
      "Chronic cholestasis: 0.00\n",
      "Jaundice: 0.00\n",
      "Malaria: 0.00\n",
      "Hypothyroidism: 0.00\n",
      "Osteoarthristis: 0.00\n",
      "(vertigo) Paroymsal  Positional Vertigo: 0.00\n",
      "Cervical spondylosis: 0.00\n",
      "Urinary tract infection: 0.00\n",
      "Varicose veins: 0.00\n",
      "Chicken pox: 0.00\n",
      "Allergy: 0.00\n",
      "Psoriasis: 0.00\n",
      "Acne: 0.00\n",
      "Hyperthyroidism: 0.00\n",
      "GERD: 0.00\n",
      "AIDS: 0.00\n",
      "Alcoholic hepatitis: 0.00\n",
      "Hepatitis D: 0.00\n",
      "Hypertension : 0.00\n",
      "Hypoglycemia: 0.00\n",
      "Fungal infection: 0.00\n",
      "Heart attack: 0.00\n",
      "Bronchial Asthma: 0.00\n",
      "Dengue: 0.00\n",
      "Hepatitis B: 0.00\n",
      "Drug Reaction: 0.00\n",
      "Hepatitis C: 0.00\n",
      "Diabetes : 0.00\n",
      "Pneumonia: 0.00\n"
     ]
    },
    {
     "name": "stderr",
     "output_type": "stream",
     "text": [
      "C:\\Users\\PC-1\\AppData\\Local\\Temp\\ipykernel_15712\\2293281331.py:6: FutureWarning: iteritems is deprecated and will be removed in a future version. Use .items instead.\n",
      "  for idx, prob in sorted_diseases.iteritems():\n"
     ]
    }
   ],
   "source": [
    "symptoms_list = ['skin_rash', 'joint_pain', 'skin_peeling', 'silver_like_dusting', 'small_dents_in_nails', 'inflammatory_nails']\n",
    "\n",
    "# Предсказание болезней на основе списка симптомов\n",
    "predict_diseases(symptoms_list, model, symptom_index_dict, disease_labels)"
   ]
  },
  {
   "cell_type": "code",
   "execution_count": null,
   "id": "685be6ed",
   "metadata": {},
   "outputs": [],
   "source": []
  }
 ],
 "metadata": {
  "kernelspec": {
   "display_name": "Python 3 (ipykernel)",
   "language": "python",
   "name": "python3"
  },
  "language_info": {
   "codemirror_mode": {
    "name": "ipython",
    "version": 3
   },
   "file_extension": ".py",
   "mimetype": "text/x-python",
   "name": "python",
   "nbconvert_exporter": "python",
   "pygments_lexer": "ipython3",
   "version": "3.10.9"
  }
 },
 "nbformat": 4,
 "nbformat_minor": 5
}
